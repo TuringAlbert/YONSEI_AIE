{
 "cells": [
  {
   "cell_type": "code",
   "execution_count": 16,
   "metadata": {},
   "outputs": [
    {
     "name": "stdout",
     "output_type": "stream",
     "text": [
      "dog is an noun.\n"
     ]
    }
   ],
   "source": [
    "import nltk\n",
    "import gensim.downloader\n",
    "from nltk.corpus import wordnet\n",
    "import pandas as pd\n",
    "import time\n",
    "from bs4 import BeautifulSoup\n",
    "from selenium import webdriver\n",
    "import requests\n",
    "# import openai\n",
    "import os\n",
    "from tqdm import tqdm\n",
    "\n",
    "# Download WordNet corpus\n",
    "# nltk.download('omw-1.4')\n",
    "# nltk.download('wordnet')\n",
    "# api_key\n",
    "# openai.api_key = 'Your API KEY'\n",
    "\n",
    "def is_adjective_or_noun(word):\n",
    "    synsets = wordnet.synsets(word)\n",
    "    for synset in synsets:\n",
    "        if synset.pos() == 'a': #synset.pos() 의미론적으로 연결된 단어 집합)의 품사를 반환 'a' = adjective\n",
    "            return \"adjective\"\n",
    "        elif synset.pos() == 'n':\n",
    "            return \"noun\"\n",
    "    return False\n",
    "\n",
    "# word = ['beautiful','dog','with']\n",
    "word = 'dog'\n",
    "\n",
    "if is_adjective_or_noun(word) == \"adjective\":\n",
    "    print(f\"{word} is an adjective.\")\n",
    "elif is_adjective_or_noun(word) == \"noun\":\n",
    "    print(f\"{word} is an noun.\")\n",
    "else:\n",
    "    print(f\"{word} is neither an adjective nor noun.\")\n",
    "\n",
    "model = gensim.downloader.load('glove-twitter-200')\n",
    "\n",
    "\n"
   ]
  },
  {
   "cell_type": "code",
   "execution_count": 29,
   "metadata": {},
   "outputs": [],
   "source": [
    "def generate_words():\n",
    "    # target_appearance = []\n",
    "    # adjective = input(\"please input 1 adjective word related to outlooking : \")\n",
    "    # target_appearance.append(adjective)\n",
    "    # noun = input(\"please input 1 noun word related to outlooking : \")\n",
    "    # target_appearance.append(noun)\n",
    "    target_appearance = [\"blonde\", \"girl\"] #해당 단어와 유사한 adj 및 noun을 출력\n",
    "    similar_words = model.most_similar(positive=target_appearance, topn=1000)\n",
    "\n",
    "    noun = []\n",
    "    adj = []\n",
    "\n",
    "    while len(adj) < 100 or len(noun) < 100:\n",
    "        for word, similarity in similar_words:\n",
    "            # print(word, is_adjective_or_noun(word), similarity)\n",
    "            if is_adjective_or_noun(word) == \"noun\":\n",
    "                if len(noun) < 100:\n",
    "                    noun.append(word)\n",
    "            elif is_adjective_or_noun(word) == \"adjective\":\n",
    "                if len(adj) < 100:\n",
    "                    adj.append(word)\n",
    "    print(target_appearance)\n"
   ]
  }
 ],
 "metadata": {
  "kernelspec": {
   "display_name": "Python 3",
   "language": "python",
   "name": "python3"
  },
  "language_info": {
   "codemirror_mode": {
    "name": "ipython",
    "version": 3
   },
   "file_extension": ".py",
   "mimetype": "text/x-python",
   "name": "python",
   "nbconvert_exporter": "python",
   "pygments_lexer": "ipython3",
   "version": "3.9.13"
  },
  "orig_nbformat": 4
 },
 "nbformat": 4,
 "nbformat_minor": 2
}
